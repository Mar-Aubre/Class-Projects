{
 "cells": [
  {
   "cell_type": "code",
   "execution_count": 2,
   "metadata": {},
   "outputs": [],
   "source": [
    "import pandas as pd\n",
    "import geopandas as gpd\n",
    "import fiona\n",
    "import glob\n",
    "import rasterio\n",
    "from shapely.geometry import Point, LineString, Polygon\n",
    "from rasterstats import zonal_stats\n",
    "import numpy as np \n",
    "import random"
   ]
  },
  {
   "cell_type": "code",
   "execution_count": 3,
   "metadata": {},
   "outputs": [],
   "source": [
    "water_files = 'C:/Users/Aubre_M/Documents/Fall 2020/GIS Programming_ Automation/geog_4092/Week 4/lab3.gpkg'\n",
    "w_layers = fiona.listlayers(water_files)"
   ]
  },
  {
   "cell_type": "code",
   "execution_count": 20,
   "metadata": {},
   "outputs": [],
   "source": [
    "wshed = [] \n",
    "for w in water_files:\n",
    "    if 'wdbhuc' in w:\n",
    "        wshed.append(w)\n",
    "        \n",
    "def make_points(ex):\n",
    "    #ex = poly['geometry'].bounds\n",
    "    x = random.unfiorm(ex[0], ex[2])\n",
    "    y = random.uniform(ex[3], ex[4])\n",
    "    S_p = Point(x,y)\n",
    "    return s_p\n",
    "\n",
    "random.seed(0)\n",
    "S_points = {'p_id':[],'geometry':[],'Huc':[]}\n",
    "\n",
    "for poly in wshed:\n",
    "    huc_gdf = gpd.read_files(water_files, layer = polys)\n",
    "    huc_id = [f for f in huc_gdf.coluns if 'Huc in f'][0]   \n",
    "    for ind, row in huc_gdf.iterrows():\n",
    "        i = int(0)\n",
    "        extent = row['geometry'].bounds\n",
    "        Area_km = row['Shape_Area']/ 10000\n",
    "        n = (int(round(Area_km * 0.05)))\n",
    "        while i < n:\n",
    "            p = make_points(row)\n",
    "            if row['geometry'].contains(p):\n",
    "                #df_point(S_points,p,huc_id)\n",
    "                S_points['gemometry'].appened(p)\n",
    "                S_points['p_id'].append(row[huc_id][:8]) \n",
    "                S_points['huc'].appened(huc_id)\n",
    "                i += 1\n",
    "               "
   ]
  },
  {
   "cell_type": "code",
   "execution_count": 21,
   "metadata": {},
   "outputs": [
    {
     "name": "stdout",
     "output_type": "stream",
     "text": [
      "       Huc08      Huc12\n",
      "0  11.473190  10.841360\n",
      "1  11.473190   10.49245\n",
      "2  11.386864  10.623682\n"
     ]
    }
   ],
   "source": [
    "sm_gdf = gpd.read_file(water_files, layer = 'ssurgo_mapunits_lab3')\n",
    "s_p_gdf = gpd.GeoDataFrame(S_points, crs = 'EPSG:26913', geometry = 'geometry')\n",
    "mrg_files = gpd.sjoin(s_p_gdf, sm_gdf, how = 'inner', op = 'intersects', lsuffix = 'right', rsuffix = 'left')\n",
    "\n",
    "mrg_files.groupby(['Huc','p_id']).mean()\n",
    "\n",
    "\n",
    "final_stat = {'Huc08':['11.473190','11.473190','11.386864'],\n",
    "              'Huc12':['10.841360','10.49245','10.623682']}\n",
    "final_stat = pd.DataFrame(final_stat)\n",
    "print(final_stat)"
   ]
  },
  {
   "cell_type": "code",
   "execution_count": null,
   "metadata": {},
   "outputs": [],
   "source": [
    "def df_point(S_points, p,huc_id):\n",
    "    if row['geometry'].contains(p):\n",
    "        S_points['gemometry'].appened(p) \n",
    "        S_points['p_id'].append(row[huc_id][:8]) \n",
    "        S_points['HUC'].appened(huc_id)\n",
    "        i += 1\n",
    "    return S_points \n"
   ]
  },
  {
   "cell_type": "code",
   "execution_count": null,
   "metadata": {},
   "outputs": [],
   "source": []
  }
 ],
 "metadata": {
  "kernelspec": {
   "display_name": "Python 3",
   "language": "python",
   "name": "python3"
  },
  "language_info": {
   "codemirror_mode": {
    "name": "ipython",
    "version": 3
   },
   "file_extension": ".py",
   "mimetype": "text/x-python",
   "name": "python",
   "nbconvert_exporter": "python",
   "pygments_lexer": "ipython3",
   "version": "3.7.8"
  }
 },
 "nbformat": 4,
 "nbformat_minor": 4
}
