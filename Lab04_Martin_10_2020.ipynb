{
 "cells": [
  {
   "cell_type": "code",
   "execution_count": 77,
   "metadata": {},
   "outputs": [],
   "source": [
    "import numpy as np\n",
    "import rasterio \n",
    "from rasterio.plot import show\n",
    "from scipy.spatial import cKDTree\n",
    "from rasterio.enums import Resampling\n",
    "import geopandas as gpd\n",
    "import pandas as pd\n",
    "import os \n",
    "\n",
    "direct_data ='C:\\\\Users\\\\Aubre_M\\\\Documents\\\\Fall 2020\\\\GIS Programming_ Automation\\\\geog_4092\\\\Week 6\\\\data\\\\data'\n",
    "Pro_area = 'C:\\\\Users\\\\Aubre_M\\\\Documents\\\\Fall 2020\\\\GIS Programming_ Automation\\\\geog_4092\\\\Week 6\\\\data\\\\data\\\\protected_areas.tif'\n",
    "Water_area = 'C:\\\\Users\\\\Aubre_M\\\\Documents\\\\Fall 2020\\\\GIS Programming_ Automation\\\\geog_4092\\\\Week 6\\\\data\\\\data\\\\water_bodies.tif'\n",
    "Win_80 = 'C:\\\\Users\\\\Aubre_M\\\\Documents\\\\Fall 2020\\\\GIS Programming_ Automation\\\\geog_4092\\\\Week 6\\\\data\\\\data\\\\ws80m.tif'\n",
    "Urban_area = 'C:\\\\Users\\\\Aubre_M\\\\Documents\\\\Fall 2020\\\\GIS Programming_ Automation\\\\geog_4092\\\\Week 6\\\\data\\\\data\\\\urban_areas.tif'\n",
    "Slope = 'C:\\\\Users\\\\Aubre_M\\\\Documents\\\\Fall 2020\\\\GIS Programming_ Automation\\\\geog_4092\\\\Week 6\\\\data\\\\data\\\\slope.tif'\n",
    "Trans_stations = 'C:\\\\Users\\\\Aubre_M\\\\Documents\\\\Fall 2020\\\\GIS Programming_ Automation\\\\geog_4092\\\\Week 6\\\\data\\\\data\\\\transmission_stations.txt'\n",
    "\n",
    "W_col = int(11)\n",
    "W_row = int(9)\n",
    "mask = np.ones((W_row, W_col))\n",
    "\n",
    "def moving_windows(d, mask):\n",
    "    #d = np.where(d < 0, 0, d)\n",
    "    #creates a movinging window of 11 by 9 creating a 99 km square \n",
    "    tempArr = np.zeros(d.shape)\n",
    "    win_area = float(mask.sum())\n",
    "    \n",
    "    row_din = mask.shape[0]//2\n",
    "    col_din = mask.shape[1]//2\n",
    "    for row in range( row_din, d.shape[0] - row_din):\n",
    "        for col in range(col_din, d.shape[1] - col_din):\n",
    "            win = d[row - row_din: row + row_din + 1, \n",
    "                    col - col_din: col + col_din + 1]\n",
    "            tempArr[row, col] = win.sum()\n",
    "            \n",
    "    \n",
    "    return tempArr/win_area\n"
   ]
  },
  {
   "cell_type": "code",
   "execution_count": 78,
   "metadata": {
    "scrolled": true
   },
   "outputs": [
    {
     "name": "stdout",
     "output_type": "stream",
     "text": [
      "The number of sites where less than 5% of the site is within protected areas is  1888929\n"
     ]
    }
   ],
   "source": [
    "#Protected Area criteria \n",
    "#Boolean criteria 1 \n",
    "raster = rasterio.open(Pro_area)\n",
    "data = raster.read(1)\n",
    "\n",
    "Npro_area = moving_windows(data, mask)\n",
    "#print(Npro_area)\n",
    "#show(Npro_area)\n",
    "\n",
    "Suit_pro_area = np.where(Npro_area < 0.05, 1, 0)\n",
    "print('The number of sites where less than 5% of the site is within protected areas is ', Suit_pro_area.sum())\n",
    "#show(Suit_pro_area)"
   ]
  },
  {
   "cell_type": "code",
   "execution_count": 79,
   "metadata": {},
   "outputs": [
    {
     "name": "stdout",
     "output_type": "stream",
     "text": [
      "The number of sites where less than 2% of land can be covered by water is  1960951\n"
     ]
    }
   ],
   "source": [
    "#Water Area criteria  \n",
    "#Boolean criteria 2\n",
    "raster = rasterio.open(Water_area)\n",
    "data = raster.read(1)\n",
    "\n",
    "Nwater_area = moving_windows(data, mask)\n",
    "#print(Nwater_area)\n",
    "#show(Nwater_area)\n",
    "\n",
    "suit_water_area = np.where(Nwater_area < 0.02, 1, 0)\n",
    "print('The number of sites where less than 2% of land can be covered by water is ', suit_water_area.sum())\n",
    "#show(Suit_Water_area)"
   ]
  },
  {
   "cell_type": "code",
   "execution_count": 80,
   "metadata": {},
   "outputs": [
    {
     "name": "stdout",
     "output_type": "stream",
     "text": [
      " The number of sites where there are no urban areas is  1832741\n"
     ]
    }
   ],
   "source": [
    "#Urban Area criteria\n",
    "#Boolean criteria 3\n",
    "raster = rasterio.open(Urban_area)\n",
    "data = raster.read(1)\n",
    "\n",
    "Nurban_area = moving_windows(data, mask)\n",
    "#print(Nurban_area)\n",
    "#show(Nurban_area)\n",
    "\n",
    "Suit_urb_area = np.where(Nurban_area > 0, 0, 1)\n",
    "print(' The number of sites where there are no urban areas is ', Suit_urb_area.sum())"
   ]
  },
  {
   "cell_type": "code",
   "execution_count": 81,
   "metadata": {},
   "outputs": [
    {
     "name": "stdout",
     "output_type": "stream",
     "text": [
      "The number of sites where the average slope of less than 15 degrees is  1921753\n"
     ]
    }
   ],
   "source": [
    "#Slope Criteria \n",
    "#Boolena criteria 4 \n",
    "raster = rasterio.open(Slope)\n",
    "data = raster.read(1)\n",
    "data = np.where(data < 0, 0, data)\n",
    "NSlope_area = moving_windows(data, mask)\n",
    "#print(NSlope_area)\n",
    "#show(NSlope_area)\n",
    "\n",
    "Suit_slope_area = np.where(NSlope_area < 15, 1, 0)\n",
    "print('The number of sites where the average slope of less than 15 degrees is ', Suit_slope_area.sum())\n",
    "#show(Suit_slope_area)"
   ]
  },
  {
   "cell_type": "code",
   "execution_count": 82,
   "metadata": {
    "scrolled": true
   },
   "outputs": [
    {
     "name": "stdout",
     "output_type": "stream",
     "text": [
      "The number of sites where the average wind speed is greater than 8.5m/s is  2440\n"
     ]
    }
   ],
   "source": [
    "#wind speed 80m Area criteria\n",
    "#Boolean criteria 5 \n",
    "raster = rasterio.open(Win_80)\n",
    "data = raster.read(1)\n",
    "meta = raster.meta\n",
    "data = np.where(data < 0, 0, data)\n",
    "#Nwin_area = np.zeros(data, np.float32)\n",
    "Nwin_area = moving_windows(data, mask)\n",
    "#print(Nwin_area)\n",
    "#show(Nwin_area)\n",
    "\n",
    "Suit_win_area = np.where(Nwin_area > 8.5, 1, 0)\n",
    "print('The number of sites where the average wind speed is greater than 8.5m/s is ', Suit_win_area.sum())\n",
    "#show(Suit_win_area) \n",
    " "
   ]
  },
  {
   "cell_type": "code",
   "execution_count": 83,
   "metadata": {},
   "outputs": [
    {
     "name": "stdout",
     "output_type": "stream",
     "text": [
      "Total number of suitable sites is  425\n"
     ]
    }
   ],
   "source": [
    "sum_area = Suit_pro_area + suit_water_area + Suit_urb_area + Suit_slope_area + Suit_win_area\n",
    "suitable_areas = np.where(sum_area == 5, 1, 0)\n",
    "print('Total number of suitable sites is ', suitable_areas.sum())\n",
    "Suitarray = []\n",
    "Suitarray.append(suitable_areas)\n",
    "#print(Suitarray)"
   ]
  },
  {
   "cell_type": "code",
   "execution_count": 84,
   "metadata": {},
   "outputs": [
    {
     "data": {
      "image/png": "[encoded data removed]",
      "text/plain": [
       "<Figure size 432x288 with 1 Axes>"
      ]
     },
     "metadata": {
      "needs_background": "light"
     },
     "output_type": "display_data"
    },
    {
     "data": {
      "text/plain": [
       "<matplotlib.axes._subplots.AxesSubplot at 0x1fbb765ec08>"
      ]
     },
     "execution_count": 84,
     "metadata": {},
     "output_type": "execute_result"
    }
   ],
   "source": [
    "meta.update({'dtype': 'int16', 'nodata':0})\n",
    "#with rasterio.open(Slope) as dataset:\n",
    "with rasterio.open(os.path.join(f'.\\\\data\\\\suitable_areas.tif'), 'w', **meta) as data_tif:\n",
    "                   data_tif.write(suitable_areas.astype('int16'), indexes = 1) \n",
    "                   \n",
    "suit_sites = rasterio.open(os.path.join(f'.\\\\data\\\\suitable_areas.tif'))\n",
    "suit_sites = suit_sites.read(1)\n",
    "show (suit_sites)\n",
    "#with rasterio.open(Slope) as dataset:\n",
    "#    with rasterio.open(f'.\\\\data\\\\suitable_areas.tif', 'w', driver='GTiff', height=suitable_areas.shape[0],\n",
    "#                        width=suitable_areas.shape[1], count=1, dtype= np.int32, crs= dataset.crs, \n",
    "#                        transform =dataset.transform, nodata= -9999) as data_tif:\n",
    "#                        data_tif.write(suitable_areas) \n",
    "\n",
    "#suitable_areas.dtype\n",
    "#dtype('int64')        \n",
    "#show('suitable_areas.tif')\n",
    "#suitable_areas.dtype\n",
    "#dtype('int32')"
   ]
  },
  {
   "cell_type": "code",
   "execution_count": 85,
   "metadata": {},
   "outputs": [
    {
     "name": "stdout",
     "output_type": "stream",
     "text": [
      "The maximum distance to the closest transmission substation among all of the suitable sites is 1570.9460671079535 meters\n",
      "The maximum distance to the closest transmission substation among all of the suitable sites is 13.400763750871537 meters\n"
     ]
    }
   ],
   "source": [
    "with rasterio.open(f'.\\\\data\\\\suitable_areas.tif') as file: \n",
    "    bounds = file.bounds\n",
    "    TopLeft = (bounds[0],bounds[3])\n",
    "    LowRight = (bounds[2],bounds[1])\n",
    "    cellsize = 1000\n",
    "    x_coord = np.arange(float(TopLeft[0] + cellsize/2), float(LowRight[0]), float(cellsize))\n",
    "    y_coord = np.arange(float(LowRight[1] + cellsize/2), float(TopLeft[1]), float(cellsize))\n",
    "    x, y = np.meshgrid(x_coord,y_coord)\n",
    "    coord = np.c_[x.flatten(), y.flatten()]\n",
    "\n",
    "\n",
    "\n",
    "x_cs = []\n",
    "y_cs = []\n",
    "with open(Trans_stations) as coords:\n",
    "    lines = coords.readlines()[1:]\n",
    "    for l in lines:\n",
    "        x,y = l.split(',')\n",
    "        x_cs.append(float(x))\n",
    "        y_cs.append(float(y))\n",
    "    stations = np.vstack([x_cs,y_cs])\n",
    "    stations = stations.T \n",
    "    \n",
    "\n",
    "tree = cKDTree(coord)\n",
    "\n",
    "dd, ii  = tree.query(stations, k=5)\n",
    "\n",
    "print('The maximum distance to the closest transmission substation among all of the suitable sites is ' \n",
    "      +  str(dd.max()) + ' meters')\n",
    "print('The maximum distance to the closest transmission substation among all of the suitable sites is ' \n",
    "      +  str(dd.min()) + ' meters')\n"
   ]
  }
 ],
 "metadata": {
  "kernelspec": {
   "display_name": "Python 3",
   "language": "python",
   "name": "python3"
  },
  "language_info": {
   "codemirror_mode": {
    "name": "ipython",
    "version": 3
   },
   "file_extension": ".py",
   "mimetype": "text/x-python",
   "name": "python",
   "nbconvert_exporter": "python",
   "pygments_lexer": "ipython3",
   "version": "3.7.8"
  }
 },
 "nbformat": 4,
 "nbformat_minor": 4
}
