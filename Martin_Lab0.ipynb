{
 "cells": [
  {
   "cell_type": "code",
   "execution_count": 1,
   "metadata": {},
   "outputs": [
    {
     "name": "stdout",
     "output_type": "stream",
     "text": [
      "roads.txt\n",
      "cities.txt\n",
      "counties.txt\n",
      "state.txt\n",
      "['roads.txt', 'cities.txt', 'counties.txt', 'state.txt']\n"
     ]
    }
   ],
   "source": [
    "file_name = ['roads','cities','counties','state']\n",
    "new_end = '.txt'\n",
    "file_name = [ i + new_end for i in file_name]  \n",
    "for j in file_name:\n",
    "    print(j)\n",
    "print (file_name[:])"
   ]
  },
  {
   "cell_type": "code",
   "execution_count": 2,
   "metadata": {},
   "outputs": [
    {
     "name": "stdout",
     "output_type": "stream",
     "text": [
      "0 - 1.0\n",
      "1 - 3.141592653589793\n",
      "2 - 9.869604401089358\n",
      "3 - 31.006276680299816\n",
      "4 - 97.40909103400242\n",
      "5 - 306.0196847852814\n",
      "6 - 961.3891935753043\n",
      "7 - 3020.2932277767914\n",
      "8 - 9488.53101607057\n",
      "9 - 29809.0993334462\n"
     ]
    }
   ],
   "source": [
    "import math\n",
    "p = 0\n",
    "x = 0\n",
    "while p < 10000:\n",
    "    p = math.pow(math.pi,x)\n",
    "    print(x, '-', p)\n",
    "    x = x + 1"
   ]
  },
  {
   "cell_type": "code",
   "execution_count": null,
   "metadata": {},
   "outputs": [],
   "source": []
  },
  {
   "cell_type": "code",
   "execution_count": 3,
   "metadata": {},
   "outputs": [
    {
     "name": "stdout",
     "output_type": "stream",
     "text": [
      "3.141592653589793\n"
     ]
    }
   ],
   "source": []
  },
  {
   "cell_type": "code",
   "execution_count": null,
   "metadata": {},
   "outputs": [],
   "source": []
  }
 ],
 "metadata": {
  "kernelspec": {
   "display_name": "Python 3",
   "language": "python",
   "name": "python3"
  },
  "language_info": {
   "codemirror_mode": {
    "name": "ipython",
    "version": 3
   },
   "file_extension": ".py",
   "mimetype": "text/x-python",
   "name": "python",
   "nbconvert_exporter": "python",
   "pygments_lexer": "ipython3",
   "version": "3.7.8"
  }
 },
 "nbformat": 4,
 "nbformat_minor": 4
}
