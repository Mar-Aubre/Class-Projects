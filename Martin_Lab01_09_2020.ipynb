{
 "cells": [
  {
   "cell_type": "code",
   "execution_count": null,
   "metadata": {},
   "outputs": [],
   "source": [
    "import pandas as pd\n",
    "import geopandas as gpd\n",
    "import fiona"
   ]
  },
  {
   "cell_type": "code",
   "execution_count": null,
   "metadata": {},
   "outputs": [],
   "source": [
    "# open/reads the layers in the file \n",
    "data_file = './lab1.gpkg'\n",
    "layers = fiona.listlayers(data_file)\n",
    "print(layers)\n"
   ]
  },
  {
   "cell_type": "code",
   "execution_count": null,
   "metadata": {},
   "outputs": [],
   "source": [
    "slist_CO = [x for x in layers if 'soil'in x]\n",
    "mtable_CO = [y for y in layers if 'muaggatt'in y]\n",
    "m_lists = []\n",
    "\n",
    "for l in slist_CO:\n",
    "    for t in  mtable_CO:\n",
    "        if l[-3:]  == t[-3:]:\n",
    "            df_slist_CO = gpd.read_file(data_file , layer = l)\n",
    "            df_mtable_CO = gpd.read_file(data_file , layer = t)\n",
    "            m_file = pd.merge(df_slist_CO,df_mtable_CO, left_on = 'MUSYM', right_on = 'musym')\n",
    "            #x = (l[9:] in slist_CO)\n",
    "            m_file['mapunitid'] = l[9:15]\n",
    "            m_lists.append(m_file)"
   ]
  },
  {
   "cell_type": "code",
   "execution_count": null,
   "metadata": {},
   "outputs": [],
   "source": [
    "con_table = pd.concat(m_lists)\n",
    "#type(con_table)\n",
    "con_table"
   ]
  },
  {
   "cell_type": "code",
   "execution_count": null,
   "metadata": {},
   "outputs": [],
   "source": [
    "# renaming a cloumn within the data set\n",
    "con_table = con_table.rename(columns = {'geometry_x':'geometry'})\n",
    "# reading the watershed layer from the package \n",
    "water_CO = gpd.read_file(data_file , layer = 'wbdhu8_lab1')\n",
    "#water_CO"
   ]
  },
  {
   "cell_type": "code",
   "execution_count": null,
   "metadata": {},
   "outputs": [],
   "source": [
    "# overlaying each of the layer files, so that the area of interesction is visable \n",
    "inter = gpd.overlay(water_CO, con_table, how = 'intersection')\n",
    "#inter"
   ]
  },
  {
   "cell_type": "code",
   "execution_count": null,
   "metadata": {},
   "outputs": [],
   "source": [
    "inter.plot(column = 'NAME')"
   ]
  },
  {
   "cell_type": "code",
   "execution_count": null,
   "metadata": {},
   "outputs": [],
   "source": [
    "#inter.groupby('HUC8')['HUC8'].count()\n",
    "unitF_vals = inter.groupby(['NAME']).count()\n",
    "#con_table.shape"
   ]
  },
  {
   "cell_type": "code",
   "execution_count": null,
   "metadata": {},
   "outputs": [],
   "source": [
    "#print (unit_vals)\n",
    "print(unitF_vals[['mapunitid']])"
   ]
  }
 ],
 "metadata": {
  "kernelspec": {
   "display_name": "Python 3",
   "language": "python",
   "name": "python3"
  },
  "language_info": {
   "codemirror_mode": {
    "name": "ipython",
    "version": 3
   },
   "file_extension": ".py",
   "mimetype": "text/x-python",
   "name": "python",
   "nbconvert_exporter": "python",
   "pygments_lexer": "ipython3",
   "version": "3.7.8"
  }
 },
 "nbformat": 4,
 "nbformat_minor": 4
}
